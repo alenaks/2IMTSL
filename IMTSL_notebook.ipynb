{
 "cells": [
  {
   "cell_type": "code",
   "execution_count": 1,
   "metadata": {},
   "outputs": [],
   "source": [
    "from random import choice"
   ]
  },
  {
   "cell_type": "markdown",
   "metadata": {},
   "source": [
    "## Data generators\n",
    "\n",
    "### First-last harmony"
   ]
  },
  {
   "cell_type": "code",
   "execution_count": 2,
   "metadata": {},
   "outputs": [],
   "source": [
    "def first_last_generate(n = 10, length = 10, grammatical = True, \n",
    "                        vowels = None, transparent = None):\n",
    "    \"\"\" Generates a collection words following the rule of first-last harmony.\n",
    "    \n",
    "    * n (int): number of strings that need to be generated;\n",
    "    * length (int): length of every one of the generated strings;\n",
    "    * grammatical (bool): if set to True, the correctly harmonizing\n",
    "                          forms are generated, and if set to False,\n",
    "                          the disharmonic forms are produced;\n",
    "    * vowels (list): list of vowels among which the first-last\n",
    "                     agreement is established;\n",
    "    * transparent (list): list of irrelevant elements.\n",
    "    \"\"\"\n",
    "    \n",
    "    # initialization and sanity check for the list of vowels\n",
    "    if vowels is None:\n",
    "        vowels = [\"a\", \"o\"]\n",
    "    elif len(vowels) < 2:\n",
    "        raise IndexError(\"The vowel system needs to contain at least two distinct vowels.\")\n",
    "    \n",
    "    # initialization and sanity check for the list of transparent elements\n",
    "    if transparent is None:\n",
    "        transparent = [\"x\"]\n",
    "    elif [i for i in vowels if i in transparent]:\n",
    "        raise ValueError(\"Lists of harmonizing vowels and transparent elements cannot overlap.\")\n",
    "    \n",
    "    # generate the required number of harmonic strings\n",
    "    strings = []\n",
    "    for i in range(n):\n",
    "        new = choice(vowels)\n",
    "        new += \"\".join([choice(vowels + transparent) for j in range(length - 2)])\n",
    "        if grammatical:\n",
    "            new += new[0]\n",
    "        else:\n",
    "            new += choice([i for i in vowels if i != new[0]])\n",
    "            \n",
    "        strings.append(new)\n",
    "\n",
    "    return strings"
   ]
  },
  {
   "cell_type": "code",
   "execution_count": 3,
   "metadata": {
    "scrolled": true
   },
   "outputs": [
    {
     "name": "stdout",
     "output_type": "stream",
     "text": [
      "['aoaaxaxxaa', 'oaooaxxaao', 'oaxxxaaaoo', 'oxxxoaoooo', 'oaoxoaoaao']\n",
      "['oooooaoaxa', 'axooaaaaxo', 'oxxaxaaaaa', 'aooxxoaaoo', 'aaxaxaxaoo']\n"
     ]
    }
   ],
   "source": [
    "print(first_last_generate(n = 5, grammatical = True))\n",
    "print(first_last_generate(n = 5, grammatical = False))"
   ]
  },
  {
   "cell_type": "markdown",
   "metadata": {},
   "source": [
    "### VC harmony"
   ]
  },
  {
   "cell_type": "code",
   "execution_count": 4,
   "metadata": {},
   "outputs": [],
   "source": [
    "def vc_harmony_generate(n = 10, length = 10, grammatical = True,\n",
    "                       vowels = None, consonants = None):\n",
    "    \"\"\" Generates a collection words following the rule of vowel-consonant harmony.\n",
    "    \n",
    "    * n (int): number of strings that need to be generated;\n",
    "    * length (int): length of every one of the generated strings;\n",
    "    * grammatical (bool): if set to True, the correctly harmonizing\n",
    "                          forms are generated, and if set to False,\n",
    "                          the disharmonic forms are produced;\n",
    "    * vowels (list): list of vowels among which the agreement\n",
    "                     is established;\n",
    "    * consonants (list): list of consonants among which the agreement\n",
    "                         is established.\n",
    "    \"\"\"\n",
    "    \n",
    "    # initialization and sanity check for the list of vowels\n",
    "    if vowels is None:\n",
    "        vowels = [\"a\", \"o\"]\n",
    "    elif len(vowels) < 2:\n",
    "        raise IndexError(\"The vowel system needs to contain at least two distinct vowels.\")\n",
    "        \n",
    "    # initialization and sanity check for the list of consonants\n",
    "    if consonants is None:\n",
    "        consonants = [\"p\", \"b\"]\n",
    "    elif len(consonants) < 2:\n",
    "        raise IndexError(\"The consonant system needs to contain at least two distinct consonants.\")\n",
    "    elif [i for i in vowels if i in consonants] or [i for i in consonants if i in vowels]:\n",
    "        raise ValueError(\"Lists of harmonizing vowels and transparent elements cannot overlap.\")\n",
    "        \n",
    "    # generate the required number of harmonic strings\n",
    "    strings = []\n",
    "    for i in range(n):\n",
    "        v = choice(vowels)\n",
    "        c = choice(consonants)\n",
    "        new = \"\".join([choice([v, c]) for j in range(length)])\n",
    "        \n",
    "        # the ungrammatical forms are created by taking a random index\n",
    "        # and rewriting it to the opposite vowel / consonant\n",
    "        if not grammatical:\n",
    "            ind = choice(range(length))\n",
    "            if new[ind] == c:\n",
    "                new = new[:ind] + choice([i for i in consonants if i != c]) + new[ind + 1:]\n",
    "            else:\n",
    "                new = new[:ind] + choice([i for i in vowels if i != v]) + new[ind + 1:]\n",
    "                \n",
    "        strings.append(new)\n",
    "    \n",
    "    return strings"
   ]
  },
  {
   "cell_type": "code",
   "execution_count": 5,
   "metadata": {},
   "outputs": [
    {
     "name": "stdout",
     "output_type": "stream",
     "text": [
      "['opppoopoop', 'bbbooboobo', 'ppppoopoop', 'bbboooobob', 'aababbbaba']\n",
      "['opopppooob', 'pappaaabap', 'aaapoppaap', 'aapbpaaaap', 'oppppooopb']\n"
     ]
    }
   ],
   "source": [
    "print(vc_harmony_generate(n = 5, grammatical = True))\n",
    "print(vc_harmony_generate(n = 5, grammatical = False))"
   ]
  },
  {
   "cell_type": "markdown",
   "metadata": {},
   "source": [
    "### Structure sensitive muti-tier harmony\n",
    "\n",
    "#### 1. Preparing a class to encode structure sensitive rules"
   ]
  },
  {
   "cell_type": "code",
   "execution_count": 6,
   "metadata": {},
   "outputs": [],
   "source": [
    "class SSRule(object):\n",
    "    \"\"\" A generic template for a structure-sensititve rule. \n",
    "    \n",
    "    * symbols (tuple): list of tier symbols relevant for the generalization;\n",
    "    * target (str): a target character context of which is important;\n",
    "    * right_context (str): a context in which a target character\n",
    "                           is projected on the tier;\n",
    "    * can_follow (tuple): a list of tier symbols that are allowed after\n",
    "                         the target character is projected.\n",
    "    \"\"\"\n",
    "    def __init__(self, symbols, target, right_context, can_follow):\n",
    "        self.symbols = symbols\n",
    "        self.target = target\n",
    "        self.right_context = right_context\n",
    "        self.can_follow = can_follow\n",
    "\n",
    "    def is_grammatical(self, string):\n",
    "        \"\"\" Checks if the given form follows a rule that is encoded.\n",
    "        \n",
    "        * string (str): a string well-formedness of which needs to be checked.\n",
    "        \"\"\"\n",
    "        \n",
    "        # first, we get rid of all irrelevant symbols (not symbols and contexts)\n",
    "        string = \"\".join([i for i in string if i in list(self.symbols) + [self.right_context]])\n",
    "        \n",
    "        # second, we construct a tier of that strings\n",
    "        tier = \"\"\n",
    "        for i in range(len(string)):\n",
    "            if string[i] in self.symbols:\n",
    "                if string[i] == self.target and i < len(string) - 1 and\\\n",
    "                    string[i + 1] == self.right_context:\n",
    "                    tier += self.target\n",
    "                elif string[i] != self.target:\n",
    "                    tier += string[i]\n",
    "\n",
    "        # third, we check if that tier is well-formed\n",
    "        for t in range(len(tier)):\n",
    "            if tier[t] == self.target and t < len(tier) - 1 and\\\n",
    "                tier[t + 1] not in self.can_follow:\n",
    "                return False\n",
    "        return True"
   ]
  },
  {
   "cell_type": "code",
   "execution_count": 7,
   "metadata": {},
   "outputs": [
    {
     "data": {
      "text/plain": [
       "False"
      ]
     },
     "execution_count": 7,
     "metadata": {},
     "output_type": "execute_result"
    }
   ],
   "source": [
    "R1 = SSRule(symbols = (\"o\", \"e\", \"a\"), target = \"o\", right_context = \"x\", can_follow = (\"a\", \"o\"))\n",
    "R1.is_grammatical(\"oxoeaee\")"
   ]
  },
  {
   "cell_type": "code",
   "execution_count": 8,
   "metadata": {},
   "outputs": [
    {
     "name": "stdout",
     "output_type": "stream",
     "text": [
      "True expected True\n",
      "True expected True\n",
      "True expected True\n",
      "False expected False\n"
     ]
    }
   ],
   "source": [
    "# prose: vowels \"o\", \"e\", and \"a\" are projected on the tier, but \"o\" can only be projected\n",
    "#        if it is immediately followed by \"x\". On the tier, after \"o\" we can only observe\n",
    "#        \"a\" or \"o\", i.e. projected \"o\" cannot be followed by \"e\" over the tier.\n",
    "R1 = SSRule(symbols = (\"o\", \"e\", \"a\"), target = \"o\", right_context = \"x\", can_follow = (\"a\", \"o\"))\n",
    "\n",
    "# the tier is \"aa\", \"o\" is not projected because it is not followed by \"x\"\n",
    "print(R1.is_grammatical(\"baboa\"), \"expected True\") \n",
    "# the tier is \"aoa\", \"o\" is projected and followed by \"a\" (allowed)\n",
    "print(R1.is_grammatical(\"baboxa\"), \"expected True\")\n",
    "# the tier is \"ae\", \"o\" is not projected because it is not followed by \"x\"\n",
    "print(R1.is_grammatical(\"baboe\"), \"expected True\")\n",
    "# the tier is \"aoe\", \"o\" is projected and followed by \"e\" (NOT allowed)\n",
    "print(R1.is_grammatical(\"baboxe\"), \"expected False\")\n",
    "\n",
    "\n",
    "# similarly, encoding another rule to make sure that we are dealing with multiple tiers\n",
    "R2 = SSRule(symbols = (\"b\", \"p\", \"d\"), target = \"b\", right_context = \"y\", can_follow = (\"b\", \"p\"))"
   ]
  },
  {
   "cell_type": "markdown",
   "metadata": {},
   "source": [
    "#### 2. Writing a generator of a sequence grammatical wrt the rule\n",
    "TODO: make this function a method in the SSRule class above."
   ]
  },
  {
   "cell_type": "code",
   "execution_count": 9,
   "metadata": {},
   "outputs": [],
   "source": [
    "def generate_rule_sequence(rule, length = 7, grammatical = True):\n",
    "    \"\"\" This function generates a sequence of symbols (un)grammatical \n",
    "        with respect to the given rule.\n",
    "        \n",
    "    * rule (SSRule): a rule describing a structure sensitive dependency;\n",
    "    * length (int): length of the generated sequence;\n",
    "    * grammatical (bool): produces correct form when set to True, and \n",
    "                          makes a mistake when set to False.\n",
    "    \"\"\"\n",
    "    \n",
    "    # the generation of the well-formed sequence is done by a simplistic FSA\n",
    "    sequence = \"\"\n",
    "    state = 0\n",
    "    for i in range(length):\n",
    "        \n",
    "        # State 0: the target was not observed\n",
    "        if state == 0:\n",
    "            sequence += choice(list(rule.symbols) + [rule.right_context])\n",
    "            if sequence[-1] == rule.target:\n",
    "                state = 1\n",
    "                \n",
    "        # State 1: the target was observed\n",
    "        elif state == 1:\n",
    "            sequence += choice(list(rule.symbols) + [rule.right_context])\n",
    "            if sequence[-1] == rule.right_context:\n",
    "                state = 2\n",
    "            elif sequence[-1] != rule.target:\n",
    "                state = 0\n",
    "                \n",
    "        # State 2: the right context was observed\n",
    "        elif state == 2:\n",
    "            sequence += choice(list(rule.can_follow) + [rule.right_context])\n",
    "            if sequence[-1] in rule.can_follow and sequence[-1] != rule.target:\n",
    "                state = 0\n",
    "                \n",
    "    # if the ungrammatical form is needed, a violating sequence is generated\n",
    "    # and inserted into a random position within the sequence\n",
    "    if not grammatical:\n",
    "        violate = rule.target + rule.right_context +\\\n",
    "            choice([i for i in list(rule.symbols) if i not in rule.can_follow])\n",
    "        index_violate = choice(range(length - 3))\n",
    "        sequence = sequence[:index_violate] + violate + sequence[index_violate + 3:]\n",
    "        \n",
    "    return sequence"
   ]
  },
  {
   "cell_type": "code",
   "execution_count": 10,
   "metadata": {
    "scrolled": true
   },
   "outputs": [
    {
     "name": "stdout",
     "output_type": "stream",
     "text": [
      "The correctness of the sequence generator is verified.\n"
     ]
    }
   ],
   "source": [
    "examples1 = [generate_rule_sequence(R1) for i in range(1000)]\n",
    "v1 = all(map(R1.is_grammatical, examples1))\n",
    "examples2 = [generate_rule_sequence(R2) for i in range(1000)]\n",
    "v2 = all(map(R2.is_grammatical, examples2))\n",
    "examples3 = [generate_rule_sequence(R1, grammatical = False) for i in range(1000)]\n",
    "v3 = not any(map(R1.is_grammatical, examples3))\n",
    "examples4 = [generate_rule_sequence(R2, grammatical = False) for i in range(1000)]\n",
    "v4 = not any(map(R2.is_grammatical, examples4))\n",
    "\n",
    "assert all([v1, v2, v3, v4]) == True\n",
    "print(\"The correctness of the sequence generator is verified.\")"
   ]
  },
  {
   "cell_type": "markdown",
   "metadata": {},
   "source": [
    "#### 3. Intertwine\n",
    "Helper function for the next module, for taking two sequences that are grammatical wrt different rules and intertwining them."
   ]
  },
  {
   "cell_type": "code",
   "execution_count": 11,
   "metadata": {},
   "outputs": [],
   "source": [
    "def intertwine(str1, str2, r = (0, 3)):\n",
    "    \"\"\" Intertwines two strings: str1 and str2. At every step, it takes\n",
    "    some characters from one string, and then some characters from another.\n",
    "    oxxooxa\n",
    "    * str1 (str): the first string;\n",
    "    * str2 (str): the second string;\n",
    "    * r (tuple[int, int]): min and max+1 symbols to be taken.\n",
    "    \"\"\"\n",
    "    new_string = \"\"\n",
    "    current = choice([1, 2])\n",
    "    while str1 or str2:\n",
    "        if current == 1:\n",
    "            cut = choice(range(r[0], r[1]))\n",
    "            if len(str1) < cut:\n",
    "                new = str1[:]\n",
    "            else:\n",
    "                new = str1[:cut]\n",
    "            new_string += new\n",
    "            str1 = str1[len(new):]\n",
    "            current = 2\n",
    "        elif current == 2:\n",
    "            cut = choice(range(r[0], r[1]))\n",
    "            if len(str2) < cut:\n",
    "                new = str2[:]\n",
    "            else:\n",
    "                new = str2[:cut]\n",
    "            new_string += new\n",
    "            str2 = str2[len(new):]\n",
    "            current = 1\n",
    "    return new_string"
   ]
  },
  {
   "cell_type": "code",
   "execution_count": 12,
   "metadata": {
    "scrolled": true
   },
   "outputs": [
    {
     "data": {
      "text/plain": [
       "'12ab345cd67ef8g'"
      ]
     },
     "execution_count": 12,
     "metadata": {},
     "output_type": "execute_result"
    }
   ],
   "source": [
    "intertwine(\"abcdefg\", \"12345678\")"
   ]
  },
  {
   "cell_type": "markdown",
   "metadata": {},
   "source": [
    "#### 4. Generator for the IMTSL harmony"
   ]
  },
  {
   "cell_type": "code",
   "execution_count": 13,
   "metadata": {},
   "outputs": [],
   "source": [
    "def imtsl_harmony_generate(n = 10, length = 10, grammatical = True,\n",
    "                       rule_1 = None, rule_2 = None):\n",
    "    \"\"\" Generates a collection words following the given rules of the structure-\n",
    "        Takessensitive dependencies that involve several tiers.\n",
    "    \n",
    "    * n (int): number of strings that need to be generated;\n",
    "    * length (int): length of every one of the generated strings;\n",
    "    * grammatical (bool): if set to True, the correctly harmonizing\n",
    "                          forms are generated, and if set to False,\n",
    "                          the disharmonic forms are produced;\n",
    "    * rule_1 (SSRule): the first rule describing a long-distant structure-\n",
    "                      sensitive dependency;\n",
    "    * rule_2 (SSRule): the second rule describing a long-distant structure-\n",
    "                      sensitive dependency.\n",
    "    \"\"\"\n",
    "    \n",
    "    # set the rules to R1 and R2 shown above\n",
    "    if rule_1 == None:\n",
    "        rule_1 = SSRule(symbols = (\"o\", \"e\", \"a\"), target = \"o\",\\\n",
    "                        right_context = \"x\", can_follow = (\"a\", \"o\"))\n",
    "    if rule_2 == None:\n",
    "        rule_2 = SSRule(symbols = (\"b\", \"p\", \"d\"), target = \"b\",\\\n",
    "                        right_context = \"y\", can_follow = (\"b\", \"p\"))\n",
    "    \n",
    "    strings = []\n",
    "    for i in range(n):\n",
    "        # generate two tiers independently, and then intertwine them\n",
    "        # WARNING: the tier alphabets of the two rules cannot overlap\n",
    "        #          (required by both learner and generator)\n",
    "        len_part_1 = length // 2\n",
    "        len_part_2 = length - len_part_1\n",
    "\n",
    "        part_1 = generate_rule_sequence(rule_1, len_part_1)\n",
    "        part_2 = generate_rule_sequence(rule_2, len_part_2)\n",
    "\n",
    "        if not grammatical:\n",
    "            mistake = choice([\"R1\", \"R2\", \"both\"])\n",
    "            if mistake == \"R1\":\n",
    "                part_1 = generate_rule_sequence(rule_1, len_part_1, grammatical = False)\n",
    "            elif mistake == \"R2\":\n",
    "                part_2 = generate_rule_sequence(rule_2, len_part_2, grammatical = False)\n",
    "            else:\n",
    "                part_1 = generate_rule_sequence(rule_1, len_part_1, grammatical = False)\n",
    "                part_2 = generate_rule_sequence(rule_2, len_part_2, grammatical = False)\n",
    "\n",
    "        # intertwining the two generated sequences\n",
    "        new_string = intertwine(part_1, part_2)\n",
    "        strings.append(new_string)\n",
    "    return strings"
   ]
  },
  {
   "cell_type": "code",
   "execution_count": 14,
   "metadata": {},
   "outputs": [
    {
     "name": "stdout",
     "output_type": "stream",
     "text": [
      "['yyoydxyapyxapxe', 'axxeydoxdpxypyp', 'ooboyayopodpobb', 'xpbdaeedxboopdy', 'xppxbdaaeyyoodb', 'pexdoyxodoybdyo', 'exydepoddboyyxx', 'yepobbpbeyapexo', 'dyoayydxdabxxoy', 'bpoapdxaayaabbp', 'bboppopepyeyxoo', 'xobeedxxpopddyy', 'bbpyxxpxoyoadye', 'apdybxybeobpxaa', 'axobxxbxxbpyddp']\n"
     ]
    }
   ],
   "source": [
    "print(imtsl_harmony_generate(n = 15, length = 15))"
   ]
  },
  {
   "cell_type": "code",
   "execution_count": 15,
   "metadata": {},
   "outputs": [
    {
     "name": "stdout",
     "output_type": "stream",
     "text": [
      "The correctness of the generator is verified.\n"
     ]
    }
   ],
   "source": [
    "good = imtsl_harmony_generate(n = 1000, length = 15)\n",
    "good_evals = list(map(all, zip(map(R1.is_grammatical, good), map(R2.is_grammatical, good))))\n",
    "bad = imtsl_harmony_generate(n = 1000, length = 15, grammatical = False)\n",
    "bad_evals = list(map(all, zip(map(R1.is_grammatical, bad), map(R2.is_grammatical, bad))))\n",
    "assert all(good_evals) == (not any(bad_evals)) == True\n",
    "print(\"The correctness of the generator is verified.\")"
   ]
  },
  {
   "cell_type": "markdown",
   "metadata": {},
   "source": [
    "## Getting data samples ready"
   ]
  },
  {
   "cell_type": "code",
   "execution_count": 16,
   "metadata": {},
   "outputs": [],
   "source": [
    "def annotate(string):\n",
    "    return \">>\" + string + \"<<\""
   ]
  },
  {
   "cell_type": "code",
   "execution_count": 17,
   "metadata": {},
   "outputs": [
    {
     "name": "stdout",
     "output_type": "stream",
     "text": [
      "['>>ooaoo<<', '>>ooooo<<', '>>oxaxo<<', '>>aoaaa<<', '>>oxxxo<<', '>>aoaxa<<', '>>axooa<<', '>>aoooa<<', '>>axooa<<', '>>oaxao<<', '>>axoxa<<', '>>axooa<<', '>>axoxa<<', '>>aaxaa<<', '>>aaxoa<<', '>>aaoxa<<', '>>oaoxo<<', '>>oxaxo<<', '>>oxaxo<<', '>>ooaxo<<', '>>ooxao<<', '>>oaaao<<', '>>axxoa<<', '>>oaaxo<<', '>>aaaaa<<', '>>oxxoo<<', '>>aaxxa<<', '>>oxooo<<', '>>oxxxo<<', '>>oaoxo<<', '>>aoxxa<<', '>>oaaao<<', '>>oaxao<<', '>>oaooo<<', '>>aaaxa<<', '>>aaxxa<<', '>>aaaxa<<', '>>axxaa<<', '>>oaoao<<', '>>axaaa<<', '>>axaoa<<', '>>axaxa<<', '>>axoxa<<', '>>aoaaa<<', '>>axooa<<', '>>oaaxo<<', '>>oaxao<<', '>>oaooo<<', '>>oxaxo<<', '>>aaxaa<<', '>>aoxoa<<', '>>axoxa<<', '>>aaoxa<<', '>>oxxoo<<', '>>ooxoo<<', '>>axxaa<<', '>>oxaoo<<', '>>axoaa<<', '>>aooxa<<', '>>oxoxo<<', '>>axooa<<', '>>oxaao<<', '>>axoaa<<', '>>aaxoa<<', '>>oxxxo<<', '>>oaoxo<<', '>>oxxao<<', '>>aoaoa<<', '>>aoxoa<<', '>>aaooa<<', '>>ooaoo<<', '>>axxaa<<', '>>aaoxa<<', '>>ooaao<<', '>>axaxa<<', '>>aaaxa<<', '>>aooxa<<', '>>aaooa<<', '>>aaooa<<', '>>aoaxa<<', '>>oaaoo<<', '>>aaaaa<<', '>>oxooo<<', '>>axxxa<<', '>>oxxoo<<', '>>ooxao<<', '>>aoxoa<<', '>>aaaoa<<', '>>oooxo<<', '>>aoxaa<<', '>>aoaaa<<', '>>oooxo<<', '>>aoaoa<<', '>>aaoaa<<', '>>aoooa<<', '>>ooaao<<', '>>ooooo<<', '>>aoaxa<<', '>>ooaoo<<', '>>oxxao<<', '>>axxoa<<', '>>aaaaa<<', '>>aaoaa<<', '>>aoxxa<<', '>>oooxo<<', '>>aoaoa<<', '>>aoxaa<<', '>>oaoao<<', '>>axaxa<<', '>>oxaao<<', '>>oooao<<', '>>aaxaa<<', '>>aaooa<<', '>>oxaao<<', '>>oaxoo<<', '>>oxoxo<<', '>>oooxo<<', '>>axxaa<<', '>>aoxxa<<', '>>ooaxo<<', '>>aoxaa<<', '>>oxoxo<<', '>>oaaxo<<', '>>aaaaa<<', '>>aoaoa<<', '>>oaaxo<<', '>>ooxoo<<', '>>axaxa<<', '>>axoaa<<', '>>oxxoo<<', '>>ooxxo<<', '>>aaxaa<<', '>>aoxxa<<', '>>ooaoo<<', '>>ooooo<<', '>>oaaxo<<', '>>aaoxa<<', '>>oaaoo<<', '>>oaoxo<<', '>>axxaa<<', '>>ooaxo<<', '>>oooao<<', '>>aoaaa<<', '>>axxaa<<', '>>oaxxo<<', '>>oaooo<<', '>>aaxxa<<', '>>oxxoo<<', '>>axxxa<<', '>>oaooo<<']\n"
     ]
    }
   ],
   "source": [
    "import random\n",
    "random.seed(0)\n",
    "FL_harmony = first_last_generate(n = 150, length = 5)\n",
    "FL_harmony = list(map(annotate, FL_harmony))\n",
    "#FL_harmony_bad = first_last_generate(n = 150, length = 5, grammatical = False)\n",
    "print(FL_harmony)"
   ]
  },
  {
   "cell_type": "code",
   "execution_count": 18,
   "metadata": {},
   "outputs": [],
   "source": [
    "MTSL_harmony = vc_harmony_generate(n = 150, length = 7)\n",
    "#print(\"F\")MTSL_harmony_bad = vc_harmony_generate(n = 150, length = 7, grammatical = False)"
   ]
  },
  {
   "cell_type": "code",
   "execution_count": 19,
   "metadata": {},
   "outputs": [],
   "source": [
    "IMTSL_harmony = imtsl_harmony_generate(n = 250, length = 15)\n",
    "#IMTSL_harmony_bad = imtsl_harmony_generate(n = 250, length = 15, grammatical = False)"
   ]
  },
  {
   "cell_type": "markdown",
   "metadata": {},
   "source": [
    "## Code of the learning algorithm"
   ]
  },
  {
   "cell_type": "code",
   "execution_count": 20,
   "metadata": {},
   "outputs": [],
   "source": [
    "sigma1 = [\"a\", \"o\", \"x\"]\n",
    "sigma2 = [\"a\", \"o\", \"b\", \"p\"]\n",
    "sigma3 = [\"a\", \"o\", \"e\", \"x\", \"b\", \"p\", \"d\", \"y\"]"
   ]
  },
  {
   "cell_type": "code",
   "execution_count": 21,
   "metadata": {},
   "outputs": [],
   "source": [
    "def well_formed_ngram(ngram):\n",
    "    \"\"\"Tells if the given ngram is well-formed. An ngram is ill-formed if:\n",
    "    * there is something in-between two start- or end-symbols\n",
    "      ('>a>'), or\n",
    "    * something is before start symbol or after the end symbol\n",
    "       ('a>'), or\n",
    "    * the ngram consists only of start- or end-symbols.\n",
    "    Otherwise it is well-formed.\n",
    "    Arguments:\n",
    "        ngram (str): The ngram that needs to be evaluated.\n",
    "    Returns:\n",
    "        bool: well-formedness of the ngram.\n",
    "    \"\"\"\n",
    "    start, end = [], []\n",
    "    for i in range(len(ngram)):\n",
    "        if ngram[i] == \">\":\n",
    "            start.append(i)\n",
    "        elif ngram[i] == \"<\":\n",
    "            end.append(i)\n",
    "\n",
    "    start_len, end_len = len(start), len(end)\n",
    "    if any([start_len == len(ngram), end_len == len(ngram)]):\n",
    "        return False\n",
    "    \n",
    "    if start_len > 0:\n",
    "        if ngram[0] != \">\":\n",
    "            return False\n",
    "        if start_len > 1:\n",
    "            for i in range(1, start_len):\n",
    "                if start[i] - start[i - 1] != 1:\n",
    "                    return False\n",
    "    \n",
    "    if end_len > 0:\n",
    "        if ngram[-1] != \"<\":\n",
    "            return False\n",
    "        if end_len > 1:\n",
    "            for i in range(1, end_len):\n",
    "                if end[i] - end[i - 1] != 1:\n",
    "                    return False\n",
    "                \n",
    "    if ngram[1] == \"<\" or ngram[2] == \">\":\n",
    "        return False\n",
    "\n",
    "    return True"
   ]
  },
  {
   "cell_type": "code",
   "execution_count": 22,
   "metadata": {},
   "outputs": [
    {
     "name": "stdout",
     "output_type": "stream",
     "text": [
      "['aaaa', 'aaao', 'aaax', 'aaa<', 'aaoa', 'aaoo', 'aaox', 'aao<', 'aaxa', 'aaxo', 'aaxx', 'aax<', 'aa<<', 'aoaa', 'aoao', 'aoax', 'aoa<', 'aooa', 'aooo', 'aoox', 'aoo<', 'aoxa', 'aoxo', 'aoxx', 'aox<', 'ao<<', 'axaa', 'axao', 'axax', 'axa<', 'axoa', 'axoo', 'axox', 'axo<', 'axxa', 'axxo', 'axxx', 'axx<', 'ax<<', 'oaaa', 'oaao', 'oaax', 'oaa<', 'oaoa', 'oaoo', 'oaox', 'oao<', 'oaxa', 'oaxo', 'oaxx', 'oax<', 'oa<<', 'ooaa', 'ooao', 'ooax', 'ooa<', 'oooa', 'oooo', 'ooox', 'ooo<', 'ooxa', 'ooxo', 'ooxx', 'oox<', 'oo<<', 'oxaa', 'oxao', 'oxax', 'oxa<', 'oxoa', 'oxoo', 'oxox', 'oxo<', 'oxxa', 'oxxo', 'oxxx', 'oxx<', 'ox<<', 'xaaa', 'xaao', 'xaax', 'xaa<', 'xaoa', 'xaoo', 'xaox', 'xao<', 'xaxa', 'xaxo', 'xaxx', 'xax<', 'xa<<', 'xoaa', 'xoao', 'xoax', 'xoa<', 'xooa', 'xooo', 'xoox', 'xoo<', 'xoxa', 'xoxo', 'xoxx', 'xox<', 'xo<<', 'xxaa', 'xxao', 'xxax', 'xxa<', 'xxoa', 'xxoo', 'xxox', 'xxo<', 'xxxa', 'xxxo', 'xxxx', 'xxx<', 'xx<<', '>aaa', '>aao', '>aax', '>aa<', '>aoa', '>aoo', '>aox', '>ao<', '>axa', '>axo', '>axx', '>ax<', '>a<<', '>oaa', '>oao', '>oax', '>oa<', '>ooa', '>ooo', '>oox', '>oo<', '>oxa', '>oxo', '>oxx', '>ox<', '>o<<', '>xaa', '>xao', '>xax', '>xa<', '>xoa', '>xoo', '>xox', '>xo<', '>xxa', '>xxo', '>xxx', '>xx<', '>x<<', '>>aa', '>>ao', '>>ax', '>>a<', '>>oa', '>>oo', '>>ox', '>>o<', '>>xa', '>>xo', '>>xx', '>>x<', '>><<']\n"
     ]
    }
   ],
   "source": [
    "# generate all possible 4-grams based on the alphabet\n",
    "\n",
    "from itertools import product\n",
    "\n",
    "def ngrams(alphabet, size):\n",
    "    all_of_them = [\"\".join(i) for i in product(alphabet + [\"<\", \">\"], repeat = size)]\n",
    "    return [i for i in all_of_them if well_formed_ngram(i)]\n",
    "\n",
    "fourgrams = ngrams(sigma1, 4)\n",
    "print(fourgrams)"
   ]
  },
  {
   "cell_type": "code",
   "execution_count": 23,
   "metadata": {},
   "outputs": [
    {
     "name": "stdout",
     "output_type": "stream",
     "text": [
      "['aax<', 'aox<', 'axx<', 'ax<<', 'oax<', 'oox<', 'oxx<', 'ox<<', 'xaax', 'xaox', 'xaxx', 'xax<', 'xoao', 'xoax', 'xoox', 'xoxx', 'xox<', 'xxax', 'xxox', 'xxxx', 'xxx<', 'xx<<', '>aa<', '>ao<', '>ax<', '>a<<', '>oa<', '>oo<', '>ox<', '>o<<', '>xaa', '>xao', '>xax', '>xa<', '>xoa', '>xoo', '>xox', '>xo<', '>xxa', '>xxo', '>xxx', '>xx<', '>x<<', '>>a<', '>>o<', '>>xa', '>>xo', '>>xx', '>>x<', '>><<']\n"
     ]
    }
   ],
   "source": [
    "# see which 4-grams are not in data\n",
    "\n",
    "not_in_data = []\n",
    "for f in fourgrams:\n",
    "    found = False\n",
    "    for string in FL_harmony:\n",
    "        if f in string:\n",
    "            found = True\n",
    "            break\n",
    "    if not found:\n",
    "        not_in_data.append(f)\n",
    "        \n",
    "print(not_in_data)"
   ]
  },
  {
   "cell_type": "code",
   "execution_count": 24,
   "metadata": {},
   "outputs": [],
   "source": [
    "# find all paths from those those 4-grams\n",
    "\n",
    "\n",
    "# NOTE: we cannot just look at all symbols when inserting/removing \n",
    "# from the set of possible tier alphabet items: to learn the whole class\n",
    "# of IMTSL grammars, we need to look at all pairs of symbols.\n",
    "# we check which other _pairs_ can be removed/added to every path X\n",
    "\n",
    "# paths [\"ab\", [X], \"cd\"]\n",
    "\n",
    "import re\n",
    "paths = {}\n",
    "\n",
    "def string_paths(string, fourgram):\n",
    "    ind_first = [s.start() for s in re.finditer(fourgram[:2], string)]\n",
    "    ind_second = [s.start() for s in re.finditer(fourgram[2:], string)]\n",
    "    local_paths = []\n",
    "    \n",
    "    if not (ind_first and ind_second):\n",
    "        return []\n",
    "    \n",
    "    paths = []\n",
    "    \n",
    "    for f in ind_first:\n",
    "        for s in ind_second:\n",
    "            if f >= s:\n",
    "                continue\n",
    "                \n",
    "            middle = string[f+1:s+1]\n",
    "            in_between = {middle[i:i+2] for i in range(len(middle) - 1)}\n",
    "            path = [fourgram[:2], in_between, fourgram[2:]]\n",
    "            paths.append(path)\n",
    "            \n",
    "    return paths\n",
    "    \n",
    "def data_paths(data, fourgram):\n",
    "    total_paths = []\n",
    "    for d in data:\n",
    "        local_path = string_paths(d, fourgram)\n",
    "        for lp in local_path:\n",
    "            if lp not in total_paths:\n",
    "                total_paths.append(lp)\n",
    "    return total_paths\n",
    "            \n",
    "            \n",
    "# string_paths(\">><<\", \"oxox\")\n",
    "# data_paths(FL_harmony, \">oxx\")"
   ]
  },
  {
   "cell_type": "code",
   "execution_count": 25,
   "metadata": {},
   "outputs": [],
   "source": [
    "# find all the paths for the unattested ngrams\n",
    "\n",
    "# for all tier candidates\n",
    "    # check the add condition\n",
    "    # check the remove condition"
   ]
  },
  {
   "cell_type": "code",
   "execution_count": 26,
   "metadata": {},
   "outputs": [],
   "source": [
    "# do we have repeating tiers? then merge the constraints\n",
    "\n",
    "# if all contexts attested, simplify the set\n",
    "# i.e. sigma = [a, b, c]\n",
    "# if attested *ca ba, *cb ba and *cc ba, can simplify to *c ba\n",
    "\n",
    "# QUESTION: is T = [a] and T = [aa, ab, ac] the same thing?"
   ]
  },
  {
   "cell_type": "code",
   "execution_count": 27,
   "metadata": {},
   "outputs": [],
   "source": [
    "def imtsl2_learn(data, sigma):\n",
    "    pass"
   ]
  }
 ],
 "metadata": {
  "kernelspec": {
   "display_name": "Python 3",
   "language": "python",
   "name": "python3"
  },
  "language_info": {
   "codemirror_mode": {
    "name": "ipython",
    "version": 3
   },
   "file_extension": ".py",
   "mimetype": "text/x-python",
   "name": "python",
   "nbconvert_exporter": "python",
   "pygments_lexer": "ipython3",
   "version": "3.6.9"
  }
 },
 "nbformat": 4,
 "nbformat_minor": 2
}
