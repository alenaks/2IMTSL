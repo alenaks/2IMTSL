{
 "cells": [
  {
   "cell_type": "code",
   "execution_count": 1,
   "metadata": {},
   "outputs": [],
   "source": [
    "from random import choice"
   ]
  },
  {
   "cell_type": "markdown",
   "metadata": {},
   "source": [
    "## Data generators\n",
    "\n",
    "### First-last harmony"
   ]
  },
  {
   "cell_type": "code",
   "execution_count": 2,
   "metadata": {},
   "outputs": [],
   "source": [
    "def first_last_generate(n = 10, length = 10, grammatical = True, \n",
    "                        vowels = None, transparent = None):\n",
    "    \"\"\" Generates a collection words following the rule of first-last harmony.\n",
    "    \n",
    "    * n (int): number of strings that need to be generated;\n",
    "    * length (int): length of every one of the generated strings;\n",
    "    * grammatical (bool): if set to True, the correctly harmonizing\n",
    "                          forms are generated, and if set to False,\n",
    "                          the disharmonic forms are produced;\n",
    "    * vowels (list): list of vowels among which the first-last\n",
    "                     agreement is established;\n",
    "    * transparent (list): list of irrelevant elements.\n",
    "    \"\"\"\n",
    "    \n",
    "    # initialization and sanity check for the list of vowels\n",
    "    if vowels is None:\n",
    "        vowels = [\"a\", \"o\"]\n",
    "    elif len(vowels) < 2:\n",
    "        raise IndexError(\"The vowel system needs to contain at least two distinct vowels.\")\n",
    "    \n",
    "    # initialization and sanity check for the list of transparent elements\n",
    "    if transparent is None:\n",
    "        transparent = [\"x\"]\n",
    "    elif [i for i in vowels if i in transparent]:\n",
    "        raise ValueError(\"Lists of harmonizing vowels and transparent elements cannot overlap.\")\n",
    "    \n",
    "    # generate the required number of harmonic strings\n",
    "    strings = []\n",
    "    for i in range(n):\n",
    "        new = choice(vowels)\n",
    "        new += \"\".join([choice(vowels + transparent) for j in range(length - 2)])\n",
    "        if grammatical:\n",
    "            new += new[0]\n",
    "        else:\n",
    "            new += choice([i for i in vowels if i != new[0]])\n",
    "            \n",
    "        strings.append(new)\n",
    "\n",
    "    return strings"
   ]
  },
  {
   "cell_type": "code",
   "execution_count": 3,
   "metadata": {
    "scrolled": true
   },
   "outputs": [
    {
     "name": "stdout",
     "output_type": "stream",
     "text": [
      "['aaxxaoaooa', 'axxoaxaxxa', 'oaoaxaaaao', 'oaoxaoxoxo', 'oaxoaxaaao']\n",
      "['oaooaaoxaa', 'ooxxxaaaaa', 'aooaaxaxxo', 'aaaoaaxooo', 'aoaxooxxoo']\n"
     ]
    }
   ],
   "source": [
    "print(first_last_generate(n = 5, grammatical = True))\n",
    "print(first_last_generate(n = 5, grammatical = False))"
   ]
  },
  {
   "cell_type": "markdown",
   "metadata": {},
   "source": [
    "### VC harmony"
   ]
  },
  {
   "cell_type": "code",
   "execution_count": 4,
   "metadata": {},
   "outputs": [],
   "source": [
    "def vc_harmony_generate(n = 10, length = 10, grammatical = True,\n",
    "                       vowels = None, consonants = None):\n",
    "    \"\"\" Generates a collection words following the rule of vowel-consonant harmony.\n",
    "    \n",
    "    * n (int): number of strings that need to be generated;\n",
    "    * length (int): length of every one of the generated strings;\n",
    "    * grammatical (bool): if set to True, the correctly harmonizing\n",
    "                          forms are generated, and if set to False,\n",
    "                          the disharmonic forms are produced;\n",
    "    * vowels (list): list of vowels among which the agreement\n",
    "                     is established;\n",
    "    * consonants (list): list of consonants among which the agreement\n",
    "                         is established.\n",
    "    \"\"\"\n",
    "    \n",
    "    # initialization and sanity check for the list of vowels\n",
    "    if vowels is None:\n",
    "        vowels = [\"a\", \"o\"]\n",
    "    elif len(vowels) < 2:\n",
    "        raise IndexError(\"The vowel system needs to contain at least two distinct vowels.\")\n",
    "        \n",
    "    # initialization and sanity check for the list of consonants\n",
    "    if consonants is None:\n",
    "        consonants = [\"p\", \"b\"]\n",
    "    elif len(consonants) < 2:\n",
    "        raise IndexError(\"The consonant system needs to contain at least two distinct consonants.\")\n",
    "    elif [i for i in vowels if i in consonants] or [i for i in consonants if i in vowels]:\n",
    "        raise ValueError(\"Lists of harmonizing vowels and transparent elements cannot overlap.\")\n",
    "        \n",
    "    # generate the required number of harmonic strings\n",
    "    strings = []\n",
    "    for i in range(n):\n",
    "        v = choice(vowels)\n",
    "        c = choice(consonants)\n",
    "        new = \"\".join([choice([v, c]) for j in range(length)])\n",
    "        \n",
    "        # the ungrammatical forms are created by taking a random index\n",
    "        # and rewriting it to the opposite vowel / consonant\n",
    "        if not grammatical:\n",
    "            ind = choice(range(length))\n",
    "            if new[ind] == c:\n",
    "                new = new[:ind] + choice([i for i in consonants if i != c]) + new[ind + 1:]\n",
    "            else:\n",
    "                new = new[:ind] + choice([i for i in vowels if i != v]) + new[ind + 1:]\n",
    "                \n",
    "        strings.append(new)\n",
    "    \n",
    "    return strings"
   ]
  },
  {
   "cell_type": "code",
   "execution_count": 5,
   "metadata": {},
   "outputs": [
    {
     "name": "stdout",
     "output_type": "stream",
     "text": [
      "['bobobboboo', 'oopppppooo', 'boobobbobo', 'poppooopop', 'ooobbbbbbb']\n",
      "['aoboboobbo', 'opooboooob', 'baapppapaa', 'aboboooboo', 'aoobobbobo']\n"
     ]
    }
   ],
   "source": [
    "print(vc_harmony_generate(n = 5, grammatical = True))\n",
    "print(vc_harmony_generate(n = 5, grammatical = False))"
   ]
  },
  {
   "cell_type": "markdown",
   "metadata": {},
   "source": [
    "### Structure sensitive muti-tier harmony\n",
    "\n",
    "#### 1. Preparing a class to encode structure sensitive rules"
   ]
  },
  {
   "cell_type": "code",
   "execution_count": 6,
   "metadata": {},
   "outputs": [],
   "source": [
    "class SSRule(object):\n",
    "    \"\"\" A generic template for a structure-sensititve rule. \n",
    "    \n",
    "    * symbols (tuple): list of tier symbols relevant for the generalization;\n",
    "    * target (str): a target character context of which is important;\n",
    "    * right_context (str): a context in which a target character\n",
    "                           is projected on the tier;\n",
    "    * can_follow (tuple): a list of tier symbols that are allowed after\n",
    "                         the target character is projected.\n",
    "    \"\"\"\n",
    "    def __init__(self, symbols, target, right_context, can_follow):\n",
    "        self.symbols = symbols\n",
    "        self.target = target\n",
    "        self.right_context = right_context\n",
    "        self.can_follow = can_follow\n",
    "\n",
    "    def is_grammatical(self, string):\n",
    "        \"\"\" Checks if the given form follows a rule that is encoded.\n",
    "        \n",
    "        * string (str): a string well-formedness of which needs to be checked.\n",
    "        \"\"\"\n",
    "        \n",
    "        # first, we get rid of all irrelevant symbols (not symbols and contexts)\n",
    "        string = \"\".join([i for i in string if i in list(self.symbols) + [self.right_context]])\n",
    "        \n",
    "        # second, we construct a tier of that strings\n",
    "        tier = \"\"\n",
    "        for i in range(len(string)):\n",
    "            if string[i] in self.symbols:\n",
    "                if string[i] == self.target and i < len(string) - 1 and\\\n",
    "                    string[i + 1] == self.right_context:\n",
    "                    tier += self.target\n",
    "                elif string[i] != self.target:\n",
    "                    tier += string[i]\n",
    "\n",
    "        # third, we check if that tier is well-formed\n",
    "        for t in range(len(tier)):\n",
    "            if tier[t] == self.target and t < len(tier) - 1 and\\\n",
    "                tier[t + 1] not in self.can_follow:\n",
    "                return False\n",
    "        return True"
   ]
  },
  {
   "cell_type": "code",
   "execution_count": 7,
   "metadata": {},
   "outputs": [
    {
     "data": {
      "text/plain": [
       "False"
      ]
     },
     "execution_count": 7,
     "metadata": {},
     "output_type": "execute_result"
    }
   ],
   "source": [
    "R1 = SSRule(symbols = (\"o\", \"e\", \"a\"), target = \"o\", right_context = \"x\", can_follow = (\"a\", \"o\"))\n",
    "R1.is_grammatical(\"oxoeaee\")"
   ]
  },
  {
   "cell_type": "code",
   "execution_count": 8,
   "metadata": {},
   "outputs": [
    {
     "name": "stdout",
     "output_type": "stream",
     "text": [
      "True expected True\n",
      "True expected True\n",
      "True expected True\n",
      "False expected False\n"
     ]
    }
   ],
   "source": [
    "# prose: vowels \"o\", \"e\", and \"a\" are projected on the tier, but \"o\" can only be projected\n",
    "#        if it is immediately followed by \"x\". On the tier, after \"o\" we can only observe\n",
    "#        \"a\" or \"o\", i.e. projected \"o\" cannot be followed by \"e\" over the tier.\n",
    "R1 = SSRule(symbols = (\"o\", \"e\", \"a\"), target = \"o\", right_context = \"x\", can_follow = (\"a\", \"o\"))\n",
    "\n",
    "# the tier is \"aa\", \"o\" is not projected because it is not followed by \"x\"\n",
    "print(R1.is_grammatical(\"baboa\"), \"expected True\") \n",
    "# the tier is \"aoa\", \"o\" is projected and followed by \"a\" (allowed)\n",
    "print(R1.is_grammatical(\"baboxa\"), \"expected True\")\n",
    "# the tier is \"ae\", \"o\" is not projected because it is not followed by \"x\"\n",
    "print(R1.is_grammatical(\"baboe\"), \"expected True\")\n",
    "# the tier is \"aoe\", \"o\" is projected and followed by \"e\" (NOT allowed)\n",
    "print(R1.is_grammatical(\"baboxe\"), \"expected False\")\n",
    "\n",
    "\n",
    "# similarly, encoding another rule to make sure that we are dealing with multiple tiers\n",
    "R2 = SSRule(symbols = (\"b\", \"p\", \"d\"), target = \"b\", right_context = \"y\", can_follow = (\"b\", \"p\"))"
   ]
  },
  {
   "cell_type": "markdown",
   "metadata": {},
   "source": [
    "#### 2. Writing a generator of a sequence grammatical wrt the rule\n",
    "TODO: make this function a method in the SSRule class above."
   ]
  },
  {
   "cell_type": "code",
   "execution_count": 9,
   "metadata": {},
   "outputs": [],
   "source": [
    "def generate_rule_sequence(rule, length = 7, grammatical = True):\n",
    "    \"\"\" This function generates a sequence of symbols (un)grammatical \n",
    "        with respect to the given rule.\n",
    "        \n",
    "    * rule (SSRule): a rule describing a structure sensitive dependency;\n",
    "    * length (int): length of the generated sequence;\n",
    "    * grammatical (bool): produces correct form when set to True, and \n",
    "                          makes a mistake when set to False.\n",
    "    \"\"\"\n",
    "    \n",
    "    # the generation of the well-formed sequence is done by a simplistic FSA\n",
    "    sequence = \"\"\n",
    "    state = 0\n",
    "    for i in range(length):\n",
    "        \n",
    "        # State 0: the target was not observed\n",
    "        if state == 0:\n",
    "            sequence += choice(list(rule.symbols) + [rule.right_context])\n",
    "            if sequence[-1] == rule.target:\n",
    "                state = 1\n",
    "                \n",
    "        # State 1: the target was observed\n",
    "        elif state == 1:\n",
    "            sequence += choice(list(rule.symbols) + [rule.right_context])\n",
    "            if sequence[-1] == rule.right_context:\n",
    "                state = 2\n",
    "            elif sequence[-1] != rule.target:\n",
    "                state = 0\n",
    "                \n",
    "        # State 2: the right context was observed\n",
    "        elif state == 2:\n",
    "            sequence += choice(list(rule.can_follow) + [rule.right_context])\n",
    "            if sequence[-1] in rule.can_follow and sequence[-1] != rule.target:\n",
    "                state = 0\n",
    "                \n",
    "    # if the ungrammatical form is needed, a violating sequence is generated\n",
    "    # and inserted into a random position within the sequence\n",
    "    if not grammatical:\n",
    "        violate = rule.target + rule.right_context +\\\n",
    "            choice([i for i in list(rule.symbols) if i not in rule.can_follow])\n",
    "        index_violate = choice(range(length - 3))\n",
    "        sequence = sequence[:index_violate] + violate + sequence[index_violate + 3:]\n",
    "        \n",
    "    return sequence"
   ]
  },
  {
   "cell_type": "code",
   "execution_count": 10,
   "metadata": {
    "scrolled": true
   },
   "outputs": [
    {
     "name": "stdout",
     "output_type": "stream",
     "text": [
      "The correctness of the sequence generator is verified.\n"
     ]
    }
   ],
   "source": [
    "examples1 = [generate_rule_sequence(R1) for i in range(1000)]\n",
    "v1 = all(map(R1.is_grammatical, examples1))\n",
    "examples2 = [generate_rule_sequence(R2) for i in range(1000)]\n",
    "v2 = all(map(R2.is_grammatical, examples2))\n",
    "examples3 = [generate_rule_sequence(R1, grammatical = False) for i in range(1000)]\n",
    "v3 = not any(map(R1.is_grammatical, examples3))\n",
    "examples4 = [generate_rule_sequence(R2, grammatical = False) for i in range(1000)]\n",
    "v4 = not any(map(R2.is_grammatical, examples4))\n",
    "\n",
    "assert all([v1, v2, v3, v4]) == True\n",
    "print(\"The correctness of the sequence generator is verified.\")"
   ]
  },
  {
   "cell_type": "markdown",
   "metadata": {},
   "source": [
    "#### 3. Intertwine\n",
    "Helper function for the next module, for taking two sequences that are grammatical wrt different rules and intertwining them."
   ]
  },
  {
   "cell_type": "code",
   "execution_count": 11,
   "metadata": {},
   "outputs": [],
   "source": [
    "def intertwine(str1, str2, r = (0, 3)):\n",
    "    \"\"\" Intertwines two strings: str1 and str2. At every step, it takes\n",
    "    some characters from one string, and then some characters from another.\n",
    "    oxxooxa\n",
    "    * str1 (str): the first string;\n",
    "    * str2 (str): the second string;\n",
    "    * r (tuple[int, int]): min and max+1 symbols to be taken.\n",
    "    \"\"\"\n",
    "    new_string = \"\"\n",
    "    current = choice([1, 2])\n",
    "    while str1 or str2:\n",
    "        if current == 1:\n",
    "            cut = choice(range(r[0], r[1]))\n",
    "            if len(str1) < cut:\n",
    "                new = str1[:]\n",
    "            else:\n",
    "                new = str1[:cut]\n",
    "            new_string += new\n",
    "            str1 = str1[len(new):]\n",
    "            current = 2\n",
    "        elif current == 2:\n",
    "            cut = choice(range(r[0], r[1]))\n",
    "            if len(str2) < cut:\n",
    "                new = str2[:]\n",
    "            else:\n",
    "                new = str2[:cut]\n",
    "            new_string += new\n",
    "            str2 = str2[len(new):]\n",
    "            current = 1\n",
    "    return new_string"
   ]
  },
  {
   "cell_type": "code",
   "execution_count": 12,
   "metadata": {
    "scrolled": true
   },
   "outputs": [
    {
     "data": {
      "text/plain": [
       "'a123bcde4f5678g'"
      ]
     },
     "execution_count": 12,
     "metadata": {},
     "output_type": "execute_result"
    }
   ],
   "source": [
    "intertwine(\"abcdefg\", \"12345678\")"
   ]
  },
  {
   "cell_type": "markdown",
   "metadata": {},
   "source": [
    "#### 4. Generator for the IMTSL harmony"
   ]
  },
  {
   "cell_type": "code",
   "execution_count": 13,
   "metadata": {},
   "outputs": [],
   "source": [
    "def imtsl_harmony_generate(n = 10, length = 10, grammatical = True,\n",
    "                       rule_1 = None, rule_2 = None):\n",
    "    \"\"\" Generates a collection words following the given rules of the structure-\n",
    "        Takessensitive dependencies that involve several tiers.\n",
    "    \n",
    "    * n (int): number of strings that need to be generated;\n",
    "    * length (int): length of every one of the generated strings;\n",
    "    * grammatical (bool): if set to True, the correctly harmonizing\n",
    "                          forms are generated, and if set to False,\n",
    "                          the disharmonic forms are produced;\n",
    "    * rule_1 (SSRule): the first rule describing a long-distant structure-\n",
    "                      sensitive dependency;\n",
    "    * rule_2 (SSRule): the second rule describing a long-distant structure-\n",
    "                      sensitive dependency.\n",
    "    \"\"\"\n",
    "    \n",
    "    # set the rules to R1 and R2 encoded above\n",
    "    if rule_1 == None:\n",
    "        rule_1 = R1\n",
    "    if rule_2 == None:\n",
    "        rule_2 = R2\n",
    "    \n",
    "    strings = []\n",
    "    for i in range(n):\n",
    "        # generate two tiers independently, and then intertwine them\n",
    "        # WARNING: the tier alphabets of the two rules cannot overlap\n",
    "        #          (required by both learner and generator)\n",
    "        len_part_1 = length // 2\n",
    "        len_part_2 = length - len_part_1\n",
    "\n",
    "        part_1 = generate_rule_sequence(rule_1, len_part_1)\n",
    "        part_2 = generate_rule_sequence(rule_2, len_part_2)\n",
    "\n",
    "        if not grammatical:\n",
    "            mistake = choice([\"R1\", \"R2\", \"both\"])\n",
    "            if mistake == \"R1\":\n",
    "                part_1 = generate_rule_sequence(rule_1, len_part_1, grammatical = False)\n",
    "            elif mistake == \"R2\":\n",
    "                part_2 = generate_rule_sequence(rule_2, len_part_2, grammatical = False)\n",
    "            else:\n",
    "                part_1 = generate_rule_sequence(rule_1, len_part_1, grammatical = False)\n",
    "                part_2 = generate_rule_sequence(rule_2, len_part_2, grammatical = False)\n",
    "\n",
    "        # intertwining the two generated sequences\n",
    "        new_string = intertwine(part_1, part_2)\n",
    "        strings.append(new_string)\n",
    "    return strings"
   ]
  },
  {
   "cell_type": "code",
   "execution_count": 14,
   "metadata": {},
   "outputs": [
    {
     "name": "stdout",
     "output_type": "stream",
     "text": [
      "['yyaxbaeboyyoepy', 'eoyyyppoopaodye', 'eaeodpaayoybbyp', 'oeabbaeexyypypb', 'yyxobpxyaodypeo', 'ydpexyaxebdyoob', 'xoydxaeexddbyyb', 'eopoeoaeyddpdpd', 'xabbdeydeeyobya', 'xxppbxodbaexpdd', 'bxppbdaxxeppbaa', 'odapdoxaoxpbypy', 'edobyyyeapxyyex', 'abbaxxxdddbaypx', 'dpaopboppbyooex']\n"
     ]
    }
   ],
   "source": [
    "print(imtsl_harmony_generate(n = 15, length = 15))"
   ]
  },
  {
   "cell_type": "code",
   "execution_count": 15,
   "metadata": {},
   "outputs": [
    {
     "name": "stdout",
     "output_type": "stream",
     "text": [
      "The correctness of the generator is verified.\n"
     ]
    }
   ],
   "source": [
    "good = imtsl_harmony_generate(n = 1000, length = 15)\n",
    "good_evals = list(map(all, zip(map(R1.is_grammatical, good), map(R2.is_grammatical, good))))\n",
    "bad = imtsl_harmony_generate(n = 1000, length = 15, grammatical = False)\n",
    "bad_evals = list(map(all, zip(map(R1.is_grammatical, bad), map(R2.is_grammatical, bad))))\n",
    "assert all(good_evals) == (not any(bad_evals)) == True\n",
    "print(\"The correctness of the generator is verified.\")"
   ]
  },
  {
   "cell_type": "markdown",
   "metadata": {},
   "source": [
    "## Code of the learning algorithm"
   ]
  },
  {
   "cell_type": "code",
   "execution_count": null,
   "metadata": {},
   "outputs": [],
   "source": []
  }
 ],
 "metadata": {
  "kernelspec": {
   "display_name": "Python 3",
   "language": "python",
   "name": "python3"
  },
  "language_info": {
   "codemirror_mode": {
    "name": "ipython",
    "version": 3
   },
   "file_extension": ".py",
   "mimetype": "text/x-python",
   "name": "python",
   "nbconvert_exporter": "python",
   "pygments_lexer": "ipython3",
   "version": "3.6.9"
  }
 },
 "nbformat": 4,
 "nbformat_minor": 2
}
